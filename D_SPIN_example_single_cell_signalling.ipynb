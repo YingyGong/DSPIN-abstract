{
 "cells": [
  {
   "cell_type": "code",
   "execution_count": 1,
   "metadata": {},
   "outputs": [],
   "source": [
    "import numpy as np\n",
    "from tqdm import tqdm\n",
    "import anndata as ad\n",
    "import sys\n",
    "from sklearn.cluster import KMeans\n",
    "import matplotlib.pyplot as plt\n",
    "import scanpy as sc\n",
    "from scipy.io import savemat, loadmat\n",
    "import os\n",
    "import pandas as pd"
   ]
  },
  {
   "cell_type": "code",
   "execution_count": 2,
   "metadata": {},
   "outputs": [],
   "source": [
    "data_folder = 'data/thomsonlab_signaling/'\n",
    "large_data_folder = 'large_data/thomsonlab_signaling/'\n",
    "fig_folder = 'figure/thomsonlab_signaling/'"
   ]
  },
  {
   "cell_type": "code",
   "execution_count": 3,
   "metadata": {},
   "outputs": [
    {
     "name": "stderr",
     "output_type": "stream",
     "text": [
      "/Users/ygong/anaconda3/envs/be206/lib/python3.11/site-packages/anndata/_core/anndata.py:121: ImplicitModificationWarning: Transforming to str index.\n",
      "  warnings.warn(\"Transforming to str index.\", ImplicitModificationWarning)\n"
     ]
    }
   ],
   "source": [
    "cadata = ad.read_h5ad(large_data_folder + 'thomsonlab_signaling_filtered_2500_scvi_umap.h5ad')"
   ]
  },
  {
   "cell_type": "code",
   "execution_count": 4,
   "metadata": {},
   "outputs": [],
   "source": [
    "seed = 0\n",
    "num_spin = 20\n",
    "num_pool = num_spin\n",
    "num_repeat = 10\n",
    "task_name = \"thomsonlab_signaling\"\n",
    "save_path = \"./test/test_signalling/\""
   ]
  },
  {
   "cell_type": "markdown",
   "metadata": {},
   "source": [
    "## Test with DSPIN Class"
   ]
  },
  {
   "cell_type": "code",
   "execution_count": 5,
   "metadata": {},
   "outputs": [],
   "source": [
    "from util.dspin import DSPIN"
   ]
  },
  {
   "cell_type": "code",
   "execution_count": 35,
   "metadata": {},
   "outputs": [],
   "source": [
    "# Reload the Package\n",
    "from importlib import reload\n",
    "import util.dspin  \n",
    "reload(util.dspin)  \n",
    "from util.dspin import DSPIN "
   ]
  },
  {
   "cell_type": "code",
   "execution_count": null,
   "metadata": {},
   "outputs": [],
   "source": []
  },
  {
   "cell_type": "code",
   "execution_count": 6,
   "metadata": {},
   "outputs": [
    {
     "name": "stderr",
     "output_type": "stream",
     "text": [
      "/Users/ygong/git/DSPIN-abstract/util/dspin.py:76: UserWarning: num_spin larger than 10 takes long time in Python. Please use computing clusters for larger num_spin.\n",
      "  warnings.warn(\"num_spin larger than 10 takes long time in Python. Please use computing clusters for larger num_spin.\")\n"
     ]
    }
   ],
   "source": [
    "a = DSPIN(cadata, save_path, num_spin)"
   ]
  },
  {
   "cell_type": "code",
   "execution_count": 8,
   "metadata": {},
   "outputs": [],
   "source": [
    "a.gene_program_csv = 'test/test_signalling/onmf_gene_list_20.csv'"
   ]
  },
  {
   "cell_type": "code",
   "execution_count": 7,
   "metadata": {},
   "outputs": [
    {
     "name": "stdout",
     "output_type": "stream",
     "text": [
      "Pre-computing\n",
      "Round_1\n"
     ]
    },
    {
     "name": "stderr",
     "output_type": "stream",
     "text": [
      "Iteration Progress: 100%|██████████| 500/500 [02:50<00:00,  2.93it/s, Reconstruction Error=7127.64]\n"
     ]
    },
    {
     "name": "stdout",
     "output_type": "stream",
     "text": [
      "Round_2\n"
     ]
    },
    {
     "name": "stderr",
     "output_type": "stream",
     "text": [
      "Iteration Progress: 100%|██████████| 500/500 [02:40<00:00,  3.11it/s, Reconstruction Error=7640.20]\n"
     ]
    },
    {
     "name": "stdout",
     "output_type": "stream",
     "text": [
      "Round_3\n"
     ]
    },
    {
     "name": "stderr",
     "output_type": "stream",
     "text": [
      "Iteration Progress: 100%|██████████| 500/500 [01:56<00:00,  4.29it/s, Reconstruction Error=7642.77]\n"
     ]
    },
    {
     "name": "stdout",
     "output_type": "stream",
     "text": [
      "Round_4\n"
     ]
    },
    {
     "name": "stderr",
     "output_type": "stream",
     "text": [
      "Iteration Progress: 100%|██████████| 500/500 [02:27<00:00,  3.38it/s, Reconstruction Error=7667.71]\n"
     ]
    },
    {
     "name": "stdout",
     "output_type": "stream",
     "text": [
      "Round_5\n"
     ]
    },
    {
     "name": "stderr",
     "output_type": "stream",
     "text": [
      "Iteration Progress: 100%|██████████| 500/500 [02:44<00:00,  3.03it/s, Reconstruction Error=7679.47]\n"
     ]
    },
    {
     "name": "stdout",
     "output_type": "stream",
     "text": [
      "Round_6\n"
     ]
    },
    {
     "name": "stderr",
     "output_type": "stream",
     "text": [
      "Iteration Progress:  54%|█████▍    | 272/500 [01:20<01:15,  3.03it/s, Reconstruction Error=7686.11]"
     ]
    },
    {
     "ename": "KeyboardInterrupt",
     "evalue": "",
     "output_type": "error",
     "traceback": [
      "\u001b[0;31m---------------------------------------------------------------------------\u001b[0m",
      "\u001b[0;31mKeyboardInterrupt\u001b[0m                         Traceback (most recent call last)",
      "Cell \u001b[0;32mIn[7], line 1\u001b[0m\n\u001b[0;32m----> 1\u001b[0m a\u001b[39m.\u001b[39mgene_program_discovery(sample_column_name\u001b[39m=\u001b[39m \u001b[39m'\u001b[39m\u001b[39msample_batch\u001b[39m\u001b[39m'\u001b[39m)\n",
      "File \u001b[0;32m~/git/DSPIN-abstract/util/dspin.py:235\u001b[0m, in \u001b[0;36mDSPIN.gene_program_discovery\u001b[0;34m(self, num_gene_select, n_clusters, sample_column_name, **kwargs)\u001b[0m\n\u001b[1;32m    232\u001b[0m \u001b[39mdef\u001b[39;00m \u001b[39mgene_program_discovery\u001b[39m(\u001b[39mself\u001b[39m, num_gene_select: \u001b[39mint\u001b[39m \u001b[39m=\u001b[39m \u001b[39m10\u001b[39m, n_clusters: \u001b[39mint\u001b[39m \u001b[39m=\u001b[39m \u001b[39m4\u001b[39m, sample_column_name \u001b[39m=\u001b[39m \u001b[39mNone\u001b[39;00m, \u001b[39m*\u001b[39m\u001b[39m*\u001b[39mkwargs):\n\u001b[1;32m    233\u001b[0m     \u001b[39m#TODO: kwargs needed to be change later because it is not friendly for users\u001b[39;00m\n\u001b[1;32m    234\u001b[0m     \u001b[39mself\u001b[39m\u001b[39m.\u001b[39mmatrix_balance()\n\u001b[0;32m--> 235\u001b[0m     \u001b[39mself\u001b[39m\u001b[39m.\u001b[39monmf_abstract(\u001b[39m*\u001b[39m\u001b[39m*\u001b[39mkwargs)\n\u001b[1;32m    236\u001b[0m     \u001b[39mself\u001b[39m\u001b[39m.\u001b[39mcompute_onmf_rep_ori()\n\u001b[1;32m    238\u001b[0m     \u001b[39mprint\u001b[39m(\u001b[39m'\u001b[39m\u001b[39mDiscretize ONMF representation into three states\u001b[39m\u001b[39m'\u001b[39m)\n",
      "File \u001b[0;32m~/git/DSPIN-abstract/util/dspin.py:214\u001b[0m, in \u001b[0;36mDSPIN.onmf_abstract\u001b[0;34m(self, balance_by, total_sample_size, method)\u001b[0m\n\u001b[1;32m    211\u001b[0m         matrix_path \u001b[39m=\u001b[39m \u001b[39mself\u001b[39m\u001b[39m.\u001b[39msave_path \u001b[39m+\u001b[39m \u001b[39m'\u001b[39m\u001b[39mgmatrix_\u001b[39m\u001b[39m'\u001b[39m \u001b[39m+\u001b[39m \u001b[39m'\u001b[39m\u001b[39m{:.0e}\u001b[39;00m\u001b[39m'\u001b[39m\u001b[39m.\u001b[39mformat(total_sample_size) \u001b[39m+\u001b[39m \u001b[39m'\u001b[39m\u001b[39m_balanced_\u001b[39m\u001b[39m'\u001b[39m \u001b[39m+\u001b[39m method \u001b[39m+\u001b[39m \u001b[39m'\u001b[39m\u001b[39m_\u001b[39m\u001b[39m'\u001b[39m \u001b[39m+\u001b[39m \u001b[39mstr\u001b[39m(seed) \u001b[39m+\u001b[39m \u001b[39m'\u001b[39m\u001b[39m.npy\u001b[39m\u001b[39m'\u001b[39m\n\u001b[1;32m    212\u001b[0m         np\u001b[39m.\u001b[39msave(matrix_path, gene_matrix_balanced)\n\u001b[0;32m--> 214\u001b[0m     current_onmf \u001b[39m=\u001b[39m compute_onmf(seed, \u001b[39mself\u001b[39m\u001b[39m.\u001b[39mnum_spin, gene_matrix_balanced)\n\u001b[1;32m    215\u001b[0m     np\u001b[39m.\u001b[39msave(\u001b[39mf\u001b[39m\u001b[39m\"\u001b[39m\u001b[39m{\u001b[39;00m\u001b[39mself\u001b[39m\u001b[39m.\u001b[39msave_path\u001b[39m}\u001b[39;00m\u001b[39monmf_\u001b[39m\u001b[39m{\u001b[39;00m\u001b[39mself\u001b[39m\u001b[39m.\u001b[39mnum_spin\u001b[39m}\u001b[39;00m\u001b[39m_\u001b[39m\u001b[39m{\u001b[39;00mseed\u001b[39m}\u001b[39;00m\u001b[39m.npy\u001b[39m\u001b[39m\"\u001b[39m, current_onmf)\n\u001b[1;32m    217\u001b[0m \u001b[39m# Summarizing the ONMF result\u001b[39;00m\n",
      "File \u001b[0;32m~/git/DSPIN-abstract/util/compute.py:325\u001b[0m, in \u001b[0;36mcompute_onmf\u001b[0;34m(seed, num_spin, gene_matrix_bin)\u001b[0m\n\u001b[1;32m    323\u001b[0m \u001b[39mdef\u001b[39;00m \u001b[39mcompute_onmf\u001b[39m(seed, num_spin, gene_matrix_bin):\n\u001b[1;32m    324\u001b[0m     np\u001b[39m.\u001b[39mrandom\u001b[39m.\u001b[39mseed(seed)\n\u001b[0;32m--> 325\u001b[0m     H, W \u001b[39m=\u001b[39m onmf(gene_matrix_bin, num_spin)\n\u001b[1;32m    327\u001b[0m     nmf_model \u001b[39m=\u001b[39m NMF(n_components\u001b[39m=\u001b[39mnum_spin, random_state\u001b[39m=\u001b[39mseed)\n\u001b[1;32m    328\u001b[0m     nmf_model\u001b[39m.\u001b[39mcomponents_ \u001b[39m=\u001b[39m np\u001b[39m.\u001b[39marray(H)\u001b[39m.\u001b[39mT\n",
      "File \u001b[0;32m~/git/DSPIN-abstract/util/compute.py:297\u001b[0m, in \u001b[0;36monmf\u001b[0;34m(X, rank, max_iter)\u001b[0m\n\u001b[1;32m    293\u001b[0m pbar \u001b[39m=\u001b[39m tqdm(total\u001b[39m=\u001b[39mmax_iter, desc \u001b[39m=\u001b[39m \u001b[39m\"\u001b[39m\u001b[39mIteration Progress\u001b[39m\u001b[39m\"\u001b[39m)\n\u001b[1;32m    295\u001b[0m \u001b[39mfor\u001b[39;00m itr \u001b[39min\u001b[39;00m \u001b[39mrange\u001b[39m(max_iter):\n\u001b[0;32m--> 297\u001b[0m     coef_A \u001b[39m=\u001b[39m X\u001b[39m.\u001b[39mdot(S\u001b[39m.\u001b[39mT) \u001b[39m/\u001b[39m A\u001b[39m.\u001b[39mdot(S\u001b[39m.\u001b[39mdot(S\u001b[39m.\u001b[39mT))\n\u001b[1;32m    298\u001b[0m     A \u001b[39m=\u001b[39m np\u001b[39m.\u001b[39mnan_to_num(A \u001b[39m*\u001b[39m coef_A) \u001b[39m#, posinf=1e5)\u001b[39;00m\n\u001b[1;32m    300\u001b[0m     AtX \u001b[39m=\u001b[39m A\u001b[39m.\u001b[39mT\u001b[39m.\u001b[39mdot(X)\n",
      "\u001b[0;31mKeyboardInterrupt\u001b[0m: "
     ]
    }
   ],
   "source": [
    "a.gene_program_discovery(sample_column_name= 'sample_batch')"
   ]
  },
  {
   "cell_type": "code",
   "execution_count": 12,
   "metadata": {},
   "outputs": [],
   "source": [
    "example_list = ['TNFA_200ng_mL_1-COVID-1', 'IL7_50ng_mL_1-COVID-1', 'LPS_50ng_mL_1-COVID-1', 'CCL2_200ng_mL_1-COVID-1', 'CONTROL_1-COVID-1']"
   ]
  },
  {
   "cell_type": "code",
   "execution_count": 13,
   "metadata": {},
   "outputs": [
    {
     "ename": "AttributeError",
     "evalue": "'DSPIN' object has no attribute 'raw_data'",
     "output_type": "error",
     "traceback": [
      "\u001b[0;31m---------------------------------------------------------------------------\u001b[0m",
      "\u001b[0;31mAttributeError\u001b[0m                            Traceback (most recent call last)",
      "Cell \u001b[0;32mIn[13], line 1\u001b[0m\n\u001b[0;32m----> 1\u001b[0m a\u001b[39m.\u001b[39mnetwork_infer(example_list\u001b[39m=\u001b[39mexample_list)\n",
      "File \u001b[0;32m~/git/DSPIN-abstract/util/dspin.py:339\u001b[0m, in \u001b[0;36mDSPIN.network_infer\u001b[0;34m(self, example_list)\u001b[0m\n\u001b[1;32m    337\u001b[0m \u001b[39mdef\u001b[39;00m \u001b[39mnetwork_infer\u001b[39m(\u001b[39mself\u001b[39m, example_list\u001b[39m=\u001b[39m\u001b[39mNone\u001b[39;00m):\n\u001b[0;32m--> 339\u001b[0m     \u001b[39mself\u001b[39m\u001b[39m.\u001b[39mpost_processing()\n\u001b[1;32m    340\u001b[0m     \u001b[39mself\u001b[39m\u001b[39m.\u001b[39mnetwork_construct(example_list\u001b[39m=\u001b[39mexample_list)\n",
      "File \u001b[0;32m~/git/DSPIN-abstract/util/dspin.py:291\u001b[0m, in \u001b[0;36mDSPIN.post_processing\u001b[0;34m(self)\u001b[0m\n\u001b[1;32m    289\u001b[0m \u001b[39mdef\u001b[39;00m \u001b[39mpost_processing\u001b[39m(\u001b[39mself\u001b[39m):\n\u001b[1;32m    290\u001b[0m     \u001b[39m# balance the experimental conditions by clustering and downsampling\u001b[39;00m\n\u001b[0;32m--> 291\u001b[0m     raw_data \u001b[39m=\u001b[39m \u001b[39mself\u001b[39m\u001b[39m.\u001b[39mraw_data\n\u001b[1;32m    292\u001b[0m     fig_folder \u001b[39m=\u001b[39m \u001b[39mself\u001b[39m\u001b[39m.\u001b[39msave_path \u001b[39m+\u001b[39m \u001b[39m'\u001b[39m\u001b[39mfigs/\u001b[39m\u001b[39m'\u001b[39m\n\u001b[1;32m    293\u001b[0m     use_data_list \u001b[39m=\u001b[39m select_diverse_sample(raw_data, num_cluster\u001b[39m=\u001b[39m\u001b[39m32\u001b[39m, fig_folder\u001b[39m=\u001b[39mfig_folder)\n",
      "\u001b[0;31mAttributeError\u001b[0m: 'DSPIN' object has no attribute 'raw_data'"
     ]
    }
   ],
   "source": [
    "a.network_infer(example_list=example_list)"
   ]
  },
  {
   "cell_type": "markdown",
   "metadata": {},
   "source": [
    "### Directly Load onmf Summary"
   ]
  },
  {
   "cell_type": "code",
   "execution_count": 9,
   "metadata": {},
   "outputs": [],
   "source": [
    "onmf_summary = np.load('test/test_signalling/onmf_summary_20.npy', allow_pickle=True).item()"
   ]
  },
  {
   "cell_type": "code",
   "execution_count": 10,
   "metadata": {},
   "outputs": [],
   "source": [
    "a.onmf_summary = onmf_summary"
   ]
  },
  {
   "cell_type": "code",
   "execution_count": 11,
   "metadata": {},
   "outputs": [],
   "source": [
    "a.matrix_balance()"
   ]
  },
  {
   "cell_type": "markdown",
   "metadata": {},
   "source": [
    "### Verification the Correctness of ONMF Representation"
   ]
  },
  {
   "cell_type": "code",
   "execution_count": null,
   "metadata": {},
   "outputs": [],
   "source": [
    "from util.plotting import onmf_gene_program_info\n",
    "\n",
    "num_gene_show = 20\n",
    "features = a.onmf_summary.components_\n",
    "gene_name = cadata.var_names\n",
    "\n",
    "onmf_gene_program_info(features, gene_name, num_gene_show, fig_folder)"
   ]
  },
  {
   "cell_type": "markdown",
   "metadata": {},
   "source": [
    "#### Visualization of gene program decomposition"
   ]
  },
  {
   "cell_type": "code",
   "execution_count": 39,
   "metadata": {},
   "outputs": [
    {
     "data": {
      "text/plain": [
       "<module 'util.compute' from '/Users/ygong/git/DSPIN-abstract/util/compute.py'>"
      ]
     },
     "execution_count": 39,
     "metadata": {},
     "output_type": "execute_result"
    }
   ],
   "source": [
    "from importlib import reload\n",
    "import util.compute\n",
    "reload(util.compute)   "
   ]
  },
  {
   "cell_type": "code",
   "execution_count": 10,
   "metadata": {},
   "outputs": [],
   "source": [
    "a.compute_onmf_rep_ori()"
   ]
  },
  {
   "cell_type": "code",
   "execution_count": 11,
   "metadata": {},
   "outputs": [
    {
     "name": "stderr",
     "output_type": "stream",
     "text": [
      "100%|██████████| 20/20 [00:03<00:00,  6.56it/s]\n"
     ]
    }
   ],
   "source": [
    "a.discretize()"
   ]
  },
  {
   "cell_type": "code",
   "execution_count": 12,
   "metadata": {},
   "outputs": [
    {
     "data": {
      "text/plain": [
       "array([[0. , 0. , 0. , ..., 1. , 0. , 0.5],\n",
       "       [1. , 0. , 0. , ..., 1. , 0. , 0.5],\n",
       "       [0.5, 0.5, 0. , ..., 1. , 0. , 0. ],\n",
       "       ...,\n",
       "       [0. , 0.5, 0.5, ..., 0.5, 0. , 0. ],\n",
       "       [0. , 0.5, 0. , ..., 0.5, 0.5, 0. ],\n",
       "       [0. , 0.5, 0.5, ..., 0.5, 0. , 0. ]])"
      ]
     },
     "execution_count": 12,
     "metadata": {},
     "output_type": "execute_result"
    }
   ],
   "source": [
    "a.onmf_rep_tri"
   ]
  },
  {
   "cell_type": "code",
   "execution_count": 13,
   "metadata": {},
   "outputs": [],
   "source": [
    "onmf_rep_tri = a.onmf_rep_tri"
   ]
  },
  {
   "cell_type": "code",
   "execution_count": 14,
   "metadata": {},
   "outputs": [],
   "source": [
    "from util.plotting import temporary_spin_name, gene_program_decomposition"
   ]
  },
  {
   "cell_type": "code",
   "execution_count": 47,
   "metadata": {},
   "outputs": [],
   "source": [
    "spin_name = temporary_spin_name('test/test_signalling/onmf_gene_list_20.csv')"
   ]
  },
  {
   "cell_type": "code",
   "execution_count": 17,
   "metadata": {},
   "outputs": [],
   "source": [
    "fig_folder = '/Users/ygong/git/DSPIN-abstract/test/test_signalling/figs'"
   ]
  },
  {
   "cell_type": "code",
   "execution_count": 19,
   "metadata": {},
   "outputs": [
    {
     "ename": "TypeError",
     "evalue": "tuple indices must be integers or slices, not tuple",
     "output_type": "error",
     "traceback": [
      "\u001b[0;31m---------------------------------------------------------------------------\u001b[0m",
      "\u001b[0;31mTypeError\u001b[0m                                 Traceback (most recent call last)",
      "Cell \u001b[0;32mIn[19], line 1\u001b[0m\n\u001b[0;32m----> 1\u001b[0m gene_program_decomposition(a\u001b[39m.\u001b[39monmf_summary, num_spin, spin_name, a\u001b[39m.\u001b[39mgene_matrix_large, onmf_rep_tri, fig_folder)\n",
      "File \u001b[0;32m~/git/DSPIN-abstract/util/plotting.py:198\u001b[0m, in \u001b[0;36mgene_program_decomposition\u001b[0;34m(onmf_summary, num_spin, spin_name_extend, gene_matrix, onmf_rep_tri, fig_folder, num_gene_select, n_clusters)\u001b[0m\n\u001b[1;32m    196\u001b[0m np\u001b[39m.\u001b[39mrandom\u001b[39m.\u001b[39mseed(\u001b[39m0\u001b[39m)\n\u001b[1;32m    197\u001b[0m subset_ind \u001b[39m=\u001b[39m np\u001b[39m.\u001b[39mrandom\u001b[39m.\u001b[39mchoice(\u001b[39mrange\u001b[39m(gene_matrix\u001b[39m.\u001b[39mshape[\u001b[39m0\u001b[39m]), size\u001b[39m=\u001b[39m\u001b[39m10000\u001b[39m, replace\u001b[39m=\u001b[39m\u001b[39mFalse\u001b[39;00m)\n\u001b[0;32m--> 198\u001b[0m cell_order \u001b[39m=\u001b[39m np\u001b[39m.\u001b[39margsort(KMeans(n_clusters\u001b[39m=\u001b[39mn_clusters)\u001b[39m.\u001b[39mfit_predict(onmf_rep_tri[subset_ind, :]))\n\u001b[1;32m    199\u001b[0m gene_matrix_subset \u001b[39m=\u001b[39m gene_matrix[subset_ind, :][:, gene_mod_use]\n\u001b[1;32m    200\u001b[0m gene_matrix_subset \u001b[39m/\u001b[39m\u001b[39m=\u001b[39m np\u001b[39m.\u001b[39mmax(gene_matrix, axis\u001b[39m=\u001b[39m\u001b[39m0\u001b[39m)[gene_mod_use]\u001b[39m.\u001b[39mclip(\u001b[39m0.2\u001b[39m, np\u001b[39m.\u001b[39minf)\n",
      "\u001b[0;31mTypeError\u001b[0m: tuple indices must be integers or slices, not tuple"
     ]
    }
   ],
   "source": [
    "gene_program_decomposition(a.onmf_summary, num_spin, spin_name, a.gene_matrix_large, onmf_rep_tri, fig_folder)"
   ]
  },
  {
   "cell_type": "code",
   "execution_count": 15,
   "metadata": {},
   "outputs": [],
   "source": [
    "gene_matrix = a.gene_matrix_large"
   ]
  },
  {
   "cell_type": "code",
   "execution_count": 23,
   "metadata": {},
   "outputs": [],
   "source": [
    "std = a.matrix_std"
   ]
  },
  {
   "cell_type": "code",
   "execution_count": 4,
   "metadata": {},
   "outputs": [],
   "source": [
    "import networkx as nx\n",
    "import matplotlib.patheffects as patheffects\n",
    "\n",
    "def plot_jmat_network(G, j_mat, ax, nodesz=1, linewz=1, node_color='k', pos=None): \n",
    "    \n",
    "    self_loops = [(u, v) for u, v in G.edges() if u == v]\n",
    "    G.remove_edges_from(self_loops)\n",
    "\n",
    "    eposi= [(u, v) for (u,v,d) in G.edges(data=True) if d['weight'] > 0]\n",
    "    wposi= np.array([d['weight'] for (u,v,d) in G.edges(data=True) if d['weight'] > 0])\n",
    "\n",
    "    enega = [(u,v) for (u,v,d) in G.edges(data=True) if d['weight'] < 0]\n",
    "    wnega = np.array([d['weight'] for (u,v,d) in G.edges(data=True) if d['weight'] < 0])\n",
    "\n",
    "    col1 = '#f0dab1'\n",
    "    # nx.draw_networkx_nodes(G, pos, ax=ax, node_size=61.8 * nodesz, node_color=col1, edgecolors='None')\n",
    "    nx.draw_networkx_nodes(G, pos, ax=ax, node_size=61.8 * nodesz, node_color=node_color, edgecolors='k')\n",
    "\n",
    "    sig_fun = lambda xx : (1 / (1 + np.exp(- 5 * (xx + cc))))\n",
    "    cc = np.max(np.abs(j_mat)) / 10\n",
    "    # edges\n",
    "    nx.draw_networkx_edges(G, pos, ax=ax, edgelist=eposi, width=linewz * wposi, \n",
    "                            edge_color='#3285CC', alpha=sig_fun(wposi))\n",
    "\n",
    "    nx.draw_networkx_edges(G, pos, ax=ax, edgelist=enega, width=- linewz * wnega, \n",
    "                            edge_color='#E84B23', alpha=sig_fun(- wnega))\n",
    "\n",
    "    margin = 0.2\n",
    "    plt.margins(x=0.1, y=0.1)\n",
    "\n",
    "    ax.set_axis_off()\n",
    "    ax.set_aspect('equal')\n",
    "    return ax "
   ]
  },
  {
   "cell_type": "code",
   "execution_count": 48,
   "metadata": {},
   "outputs": [],
   "source": [
    "gene_list = spin_name"
   ]
  },
  {
   "cell_type": "code",
   "execution_count": 49,
   "metadata": {},
   "outputs": [
    {
     "data": {
      "text/plain": [
       "['P0_PPP1R14B_APOBEC3G_CMC1_GZMM_LYAR',\n",
       " 'P1_ATM_GCC2_PPP2R5C_TNRC6B_NKTR',\n",
       " 'P2_FABP5_MFSD12_HMG20B_ALAS1_CD83',\n",
       " 'P3_PSME2_IRF1_STAT1_LAP3_GBP1',\n",
       " 'P4_NFKBIA_C15orf48_IL8_PLAUR_KYNU',\n",
       " 'P5_MALAT1_MT-CO1_MT-CO2_MT-ND4_MT-CO3',\n",
       " 'P6_MT-ND2_MT-ND1_TMSB10_RPL41_EEF1A1',\n",
       " 'P7_GABARAP_LGMN_ZFP36_CD163_FCGR3A',\n",
       " 'P8_CYBA_S100A6_NEAT1_S100A11_CD63',\n",
       " 'P9_CD37_CD79A_CXCR4_CD79B_MS4A1',\n",
       " 'P10_FOS_IER2_FCN1_TGFBI_FUCA1',\n",
       " 'P11_AES_LDHB_GIMAP7_LTB_C12orf57',\n",
       " 'P12_ATP6AP2_FCGRT_APLP2_ACP5_NCF2',\n",
       " 'P13_SNHG8_GIMAP1_PIK3IP1_KLF2_CCR7',\n",
       " 'P14_REL_BASP1_PPA1_MARCKS_HSPD1',\n",
       " 'P15_HBB_HBA2_HBA1_SNCA_SLC25A37',\n",
       " 'P16_NKG7_GNLY_CCL5_CST7_GZMA',\n",
       " 'P17_RPL28_RPS2_RPS28_RPL11_RPS15',\n",
       " 'P18_MT2A_MT1X_MT1F_MT1G_MT1E',\n",
       " 'P19_CCNG1_AQP3_TC2N_CCDC104_TSHZ2']"
      ]
     },
     "execution_count": 49,
     "metadata": {},
     "output_type": "execute_result"
    }
   ],
   "source": [
    "gene_list"
   ]
  },
  {
   "cell_type": "code",
   "execution_count": 50,
   "metadata": {},
   "outputs": [],
   "source": [
    "cur_j = a.network"
   ]
  },
  {
   "cell_type": "code",
   "execution_count": 53,
   "metadata": {},
   "outputs": [],
   "source": [
    "j_mat = a.responses"
   ]
  },
  {
   "cell_type": "code",
   "execution_count": 2,
   "metadata": {},
   "outputs": [],
   "source": [
    "def format_label(label):\n",
    "    parts = label.split('_')\n",
    "    parts[1] = parts[1] + '\\n'\n",
    "    parts[3] = parts[3] + '\\n'\n",
    "    return '_'.join(parts)"
   ]
  },
  {
   "cell_type": "code",
   "execution_count": 3,
   "metadata": {},
   "outputs": [
    {
     "name": "stdout",
     "output_type": "stream",
     "text": [
      "P0_PPP1R14B\n",
      "_APOBEC3G_CMC1\n",
      "_GZMM_LYAR\n"
     ]
    }
   ],
   "source": [
    "label = 'P0_PPP1R14B_APOBEC3G_CMC1_GZMM_LYAR'\n",
    "print(format_label(label))"
   ]
  },
  {
   "cell_type": "code",
   "execution_count": 57,
   "metadata": {},
   "outputs": [],
   "source": [
    "def adjust_label_position(pos, offset=0.1):\n",
    "    \"\"\"Move labels radially outward from the center by a given offset.\"\"\"\n",
    "    adjusted_pos = {}\n",
    "    for node, coordinates in pos.items():\n",
    "        theta = np.arctan2(coordinates[1], coordinates[0])\n",
    "        radius = np.sqrt(coordinates[0]**2 + coordinates[1]**2)\n",
    "        adjusted_pos[node] = (coordinates[0] + np.cos(theta)*offset, coordinates[1] + np.sin(theta)*offset)\n",
    "    return adjusted_pos"
   ]
  },
  {
   "cell_type": "code",
   "execution_count": 5,
   "metadata": {},
   "outputs": [
    {
     "ename": "NameError",
     "evalue": "name 'sc' is not defined",
     "output_type": "error",
     "traceback": [
      "\u001b[0;31m---------------------------------------------------------------------------\u001b[0m",
      "\u001b[0;31mNameError\u001b[0m                                 Traceback (most recent call last)",
      "Cell \u001b[0;32mIn[5], line 1\u001b[0m\n\u001b[0;32m----> 1\u001b[0m sc\u001b[39m.\u001b[39mset_figure_params(figsize\u001b[39m=\u001b[39m[\u001b[39m18\u001b[39m, \u001b[39m14\u001b[39m])\n\u001b[1;32m      3\u001b[0m nodesz \u001b[39m=\u001b[39m \u001b[39m2\u001b[39m\n\u001b[1;32m      4\u001b[0m linewz \u001b[39m=\u001b[39m \u001b[39m3\u001b[39m\n",
      "\u001b[0;31mNameError\u001b[0m: name 'sc' is not defined"
     ]
    }
   ],
   "source": [
    "sc.set_figure_params(figsize=[18, 14])\n",
    "\n",
    "nodesz = 2\n",
    "linewz = 3\n",
    "node_color = ['#f0dab1'] * num_spin\n",
    "node_label = np.array([format_label(label) for label in gene_list])\n",
    "\n",
    "\n",
    "fig, grid = sc.pl._tools._panel_grid(0.1, 0.1, ncols=2, num_panels=2)\n",
    "\n",
    "cur_j_filt = cur_j.copy()\n",
    "cur_j_filt[np.abs(cur_j_filt) < np.percentile(np.abs(cur_j_filt), 40)] = 0\n",
    "G = nx.from_numpy_array(cur_j_filt)\n",
    "pos = nx.circular_layout(G)\n",
    "\n",
    "ax = plt.subplot(grid[1])\n",
    "ax = plot_jmat_network(G, cur_j_filt, ax, nodesz=nodesz, linewz=linewz, node_color=node_color, pos=pos)\n",
    "\n",
    "path_effect = [patheffects.withStroke(linewidth=4, foreground='w')]\n",
    "\n",
    "adjusted_positions = adjust_label_position(pos, 0.2)\n",
    "for ii in range(num_spin):\n",
    "    x, y = adjusted_positions[ii]\n",
    "    text = plt.text(x, y, node_label[ii], fontsize=13, color='k', ha='center', va='center')\n",
    "    text.set_path_effects(path_effect)\n",
    "ax.set_title('D-SPIN')\n"
   ]
  },
  {
   "cell_type": "code",
   "execution_count": null,
   "metadata": {},
   "outputs": [],
   "source": []
  }
 ],
 "metadata": {
  "kernelspec": {
   "display_name": "be206",
   "language": "python",
   "name": "python3"
  },
  "language_info": {
   "codemirror_mode": {
    "name": "ipython",
    "version": 3
   },
   "file_extension": ".py",
   "mimetype": "text/x-python",
   "name": "python",
   "nbconvert_exporter": "python",
   "pygments_lexer": "ipython3",
   "version": "3.11.3"
  },
  "orig_nbformat": 4
 },
 "nbformat": 4,
 "nbformat_minor": 2
}
